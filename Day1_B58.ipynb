{
 "cells": [
  {
   "cell_type": "code",
   "execution_count": 1,
   "id": "968e6cd8",
   "metadata": {},
   "outputs": [
    {
     "name": "stdout",
     "output_type": "stream",
     "text": [
      "Hello all welcome to the python world\n"
     ]
    }
   ],
   "source": [
    "print(\"Hello all welcome to the python world\")"
   ]
  },
  {
   "cell_type": "code",
   "execution_count": null,
   "id": "6d2e71f9",
   "metadata": {},
   "outputs": [],
   "source": [
    "To save the file > File > Rename > Day_B58"
   ]
  },
  {
   "cell_type": "code",
   "execution_count": null,
   "id": "856beb94",
   "metadata": {},
   "outputs": [],
   "source": [
    "shift+enter button on the keyboard together"
   ]
  },
  {
   "cell_type": "code",
   "execution_count": null,
   "id": "af5ca426",
   "metadata": {},
   "outputs": [],
   "source": [
    "File > Downloads as > notebook(.ipynb)"
   ]
  },
  {
   "cell_type": "code",
   "execution_count": null,
   "id": "b807cbf4",
   "metadata": {},
   "outputs": [],
   "source": []
  }
 ],
 "metadata": {
  "kernelspec": {
   "display_name": "Python 3 (ipykernel)",
   "language": "python",
   "name": "python3"
  },
  "language_info": {
   "codemirror_mode": {
    "name": "ipython",
    "version": 3
   },
   "file_extension": ".py",
   "mimetype": "text/x-python",
   "name": "python",
   "nbconvert_exporter": "python",
   "pygments_lexer": "ipython3",
   "version": "3.9.7"
  }
 },
 "nbformat": 4,
 "nbformat_minor": 5
}
