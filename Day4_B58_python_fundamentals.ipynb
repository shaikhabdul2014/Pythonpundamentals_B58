{
 "cells": [
  {
   "cell_type": "code",
   "execution_count": null,
   "id": "aed7bd92",
   "metadata": {},
   "outputs": [],
   "source": [
    "introduction to list datatypes:\n",
    "A list is a collection of items declared in a particular order\n",
    "classification: It is classified as a mutable datatype\n",
    "    how to define /declare a list ....? ===>[]"
   ]
  },
  {
   "cell_type": "code",
   "execution_count": 1,
   "id": "a1dd72c0",
   "metadata": {},
   "outputs": [
    {
     "name": "stdout",
     "output_type": "stream",
     "text": [
      "['naveen', 'abdul', 'imran', 'joseph', 'keerthi', 'shaheen', 'dolly', 'navya']\n"
     ]
    }
   ],
   "source": [
    "students=['naveen','abdul','imran','joseph','keerthi','shaheen','dolly','navya']\n",
    "print(students)"
   ]
  },
  {
   "cell_type": "code",
   "execution_count": 2,
   "id": "28b62fbd",
   "metadata": {},
   "outputs": [
    {
     "ename": "NameError",
     "evalue": "name 'studnets' is not defined",
     "output_type": "error",
     "traceback": [
      "\u001b[1;31m---------------------------------------------------------------------------\u001b[0m",
      "\u001b[1;31mNameError\u001b[0m                                 Traceback (most recent call last)",
      "\u001b[1;32m~\\AppData\\Local\\Temp/ipykernel_29612/3455874076.py\u001b[0m in \u001b[0;36m<module>\u001b[1;34m\u001b[0m\n\u001b[1;32m----> 1\u001b[1;33m \u001b[0mtype\u001b[0m\u001b[1;33m(\u001b[0m\u001b[0mstudnets\u001b[0m\u001b[1;33m)\u001b[0m\u001b[1;33m\u001b[0m\u001b[1;33m\u001b[0m\u001b[0m\n\u001b[0m",
      "\u001b[1;31mNameError\u001b[0m: name 'studnets' is not defined"
     ]
    }
   ],
   "source": [
    "type(studnets)"
   ]
  },
  {
   "cell_type": "code",
   "execution_count": 3,
   "id": "ea54f6ab",
   "metadata": {},
   "outputs": [
    {
     "data": {
      "text/plain": [
       "list"
      ]
     },
     "execution_count": 3,
     "metadata": {},
     "output_type": "execute_result"
    }
   ],
   "source": [
    "type(students)"
   ]
  },
  {
   "cell_type": "code",
   "execution_count": null,
   "id": "35ac143b",
   "metadata": {},
   "outputs": [],
   "source": [
    "how to access the elements in the above list....?\n",
    "#requirement: I want to access abdul from the above list, how to do that...?"
   ]
  },
  {
   "cell_type": "code",
   "execution_count": null,
   "id": "2888019b",
   "metadata": {},
   "outputs": [],
   "source": []
  },
  {
   "cell_type": "code",
   "execution_count": null,
   "id": "67851d6e",
   "metadata": {},
   "outputs": [],
   "source": [
    "Introduction to indexing : 0,1,2,3,4....."
   ]
  },
  {
   "cell_type": "code",
   "execution_count": 4,
   "id": "a1327461",
   "metadata": {},
   "outputs": [
    {
     "name": "stdout",
     "output_type": "stream",
     "text": [
      "abdul\n"
     ]
    }
   ],
   "source": [
    "print(students[1])"
   ]
  },
  {
   "cell_type": "code",
   "execution_count": 5,
   "id": "c09fe5a8",
   "metadata": {},
   "outputs": [
    {
     "name": "stdout",
     "output_type": "stream",
     "text": [
      "keerthi\n"
     ]
    }
   ],
   "source": [
    "print(students[4])"
   ]
  },
  {
   "cell_type": "code",
   "execution_count": null,
   "id": "8f92de44",
   "metadata": {},
   "outputs": [],
   "source": [
    "Q. How to add new elements to the list\n",
    "Q. How to modify the elements in the list\n",
    "Q. How to delete the elements from the above list...?"
   ]
  },
  {
   "cell_type": "code",
   "execution_count": null,
   "id": "2d187621",
   "metadata": {},
   "outputs": [],
   "source": [
    "#requirement: I want to add kumar name to the above list ....?"
   ]
  },
  {
   "cell_type": "code",
   "execution_count": 6,
   "id": "3ee8d120",
   "metadata": {},
   "outputs": [
    {
     "name": "stdout",
     "output_type": "stream",
     "text": [
      "['naveen', 'abdul', 'imran', 'joseph', 'keerthi', 'shaheen', 'dolly', 'navya', 'kumar']\n"
     ]
    }
   ],
   "source": [
    "students.append('kumar')\n",
    "print(students)"
   ]
  },
  {
   "cell_type": "code",
   "execution_count": null,
   "id": "09f722bf",
   "metadata": {},
   "outputs": [],
   "source": [
    "Lets add sana"
   ]
  },
  {
   "cell_type": "code",
   "execution_count": 7,
   "id": "7157fa81",
   "metadata": {},
   "outputs": [
    {
     "name": "stdout",
     "output_type": "stream",
     "text": [
      "['naveen', 'abdul', 'imran', 'joseph', 'keerthi', 'shaheen', 'dolly', 'navya', 'kumar', 'sana']\n"
     ]
    }
   ],
   "source": [
    "students.append('sana')\n",
    "print(students)"
   ]
  },
  {
   "cell_type": "code",
   "execution_count": null,
   "id": "c3cc1cbb",
   "metadata": {},
   "outputs": [],
   "source": [
    "#requirement: I want to add yamini to the above list in the 2nd position"
   ]
  },
  {
   "cell_type": "code",
   "execution_count": 8,
   "id": "d1ad2305",
   "metadata": {},
   "outputs": [
    {
     "name": "stdout",
     "output_type": "stream",
     "text": [
      "['naveen', 'abdul', 'yamini', 'imran', 'joseph', 'keerthi', 'shaheen', 'dolly', 'navya', 'kumar', 'sana']\n"
     ]
    }
   ],
   "source": [
    "students.insert(2,'yamini')\n",
    "print(students)"
   ]
  },
  {
   "cell_type": "code",
   "execution_count": null,
   "id": "4b5073c2",
   "metadata": {},
   "outputs": [],
   "source": [
    "interview question- what is the diff between append and insert method in the list"
   ]
  },
  {
   "cell_type": "code",
   "execution_count": null,
   "id": "875ad43c",
   "metadata": {},
   "outputs": [],
   "source": [
    "#requirement : I want to modify naveen name to navya...?\n"
   ]
  },
  {
   "cell_type": "code",
   "execution_count": 9,
   "id": "988cd9fe",
   "metadata": {},
   "outputs": [
    {
     "name": "stdout",
     "output_type": "stream",
     "text": [
      "naveen\n"
     ]
    }
   ],
   "source": [
    "print(students[0])"
   ]
  },
  {
   "cell_type": "code",
   "execution_count": 10,
   "id": "622624b2",
   "metadata": {},
   "outputs": [
    {
     "name": "stdout",
     "output_type": "stream",
     "text": [
      "['navya', 'abdul', 'yamini', 'imran', 'joseph', 'keerthi', 'shaheen', 'dolly', 'navya', 'kumar', 'sana']\n"
     ]
    }
   ],
   "source": [
    "students[0]='navya'\n",
    "print(students)"
   ]
  },
  {
   "cell_type": "code",
   "execution_count": null,
   "id": "5e404a88",
   "metadata": {},
   "outputs": [],
   "source": [
    "here the indexing has been changed at index 0 from naveen to navya"
   ]
  },
  {
   "cell_type": "code",
   "execution_count": null,
   "id": "aa981f09",
   "metadata": {},
   "outputs": [],
   "source": [
    "How to delete the elements from the above list"
   ]
  },
  {
   "cell_type": "code",
   "execution_count": null,
   "id": "e49a2edc",
   "metadata": {},
   "outputs": [],
   "source": [
    "#requirement: how to delete joseph from the above list...?"
   ]
  },
  {
   "cell_type": "code",
   "execution_count": 11,
   "id": "a19e1491",
   "metadata": {},
   "outputs": [
    {
     "name": "stdout",
     "output_type": "stream",
     "text": [
      "['navya', 'abdul', 'yamini', 'imran', 'keerthi', 'shaheen', 'dolly', 'navya', 'kumar', 'sana']\n"
     ]
    }
   ],
   "source": [
    "del students[4]\n",
    "print(students)"
   ]
  },
  {
   "cell_type": "code",
   "execution_count": null,
   "id": "2a991f72",
   "metadata": {},
   "outputs": [],
   "source": [
    "del ==> permament deletion"
   ]
  },
  {
   "cell_type": "code",
   "execution_count": null,
   "id": "631f1327",
   "metadata": {},
   "outputs": [],
   "source": [
    "pop==> is used for temporary deletion ==> it will be creating a carbon copy of the deleted items and stores in a variable\n",
    "assigned to it.\n",
    "pop--> By default it will be deleting the last element in the list.\n",
    "\n",
    "Interview question: what is the diff between pop and del command in a list?"
   ]
  },
  {
   "cell_type": "code",
   "execution_count": 12,
   "id": "927fb5e3",
   "metadata": {},
   "outputs": [
    {
     "name": "stdout",
     "output_type": "stream",
     "text": [
      "['navya', 'abdul', 'yamini', 'imran', 'keerthi', 'shaheen', 'dolly', 'navya', 'kumar']\n"
     ]
    }
   ],
   "source": [
    "x=students.pop()\n",
    "print(students)"
   ]
  },
  {
   "cell_type": "code",
   "execution_count": 13,
   "id": "132db2aa",
   "metadata": {},
   "outputs": [
    {
     "name": "stdout",
     "output_type": "stream",
     "text": [
      "sana\n"
     ]
    }
   ],
   "source": [
    "print(x)"
   ]
  },
  {
   "cell_type": "code",
   "execution_count": null,
   "id": "c16c721b",
   "metadata": {},
   "outputs": [],
   "source": []
  },
  {
   "cell_type": "code",
   "execution_count": null,
   "id": "3b07a902",
   "metadata": {},
   "outputs": [],
   "source": []
  },
  {
   "cell_type": "code",
   "execution_count": null,
   "id": "06ac73d4",
   "metadata": {},
   "outputs": [],
   "source": []
  },
  {
   "cell_type": "code",
   "execution_count": null,
   "id": "5aedcb39",
   "metadata": {},
   "outputs": [],
   "source": []
  },
  {
   "cell_type": "code",
   "execution_count": null,
   "id": "f3640e94",
   "metadata": {},
   "outputs": [],
   "source": []
  },
  {
   "cell_type": "code",
   "execution_count": null,
   "id": "686bd6ea",
   "metadata": {},
   "outputs": [],
   "source": []
  }
 ],
 "metadata": {
  "kernelspec": {
   "display_name": "Python 3 (ipykernel)",
   "language": "python",
   "name": "python3"
  },
  "language_info": {
   "codemirror_mode": {
    "name": "ipython",
    "version": 3
   },
   "file_extension": ".py",
   "mimetype": "text/x-python",
   "name": "python",
   "nbconvert_exporter": "python",
   "pygments_lexer": "ipython3",
   "version": "3.9.7"
  }
 },
 "nbformat": 4,
 "nbformat_minor": 5
}
