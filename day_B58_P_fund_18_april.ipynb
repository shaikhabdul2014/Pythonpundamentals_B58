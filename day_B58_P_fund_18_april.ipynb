{
 "cells": [
  {
   "cell_type": "code",
   "execution_count": null,
   "id": "b35883ef",
   "metadata": {},
   "outputs": [],
   "source": [
    "Introduction to dictionary data type\n",
    "Definition A dictionary is a combination of key - value pairs\n",
    "classification: It is a classified as a mutable data type\n",
    "How to define the dictionary\n",
    "In a shortform it is a written as dict\n",
    "\n",
    "# designing an alien game"
   ]
  },
  {
   "cell_type": "code",
   "execution_count": 1,
   "id": "d9e2ec41",
   "metadata": {},
   "outputs": [
    {
     "name": "stdout",
     "output_type": "stream",
     "text": [
      "{'color': 'green', 'points': '5'}\n"
     ]
    }
   ],
   "source": [
    "alien={'color':'green', 'points':'5'}\n",
    "print(alien)"
   ]
  },
  {
   "cell_type": "code",
   "execution_count": 2,
   "id": "e806ab3b",
   "metadata": {},
   "outputs": [
    {
     "data": {
      "text/plain": [
       "dict"
      ]
     },
     "execution_count": 2,
     "metadata": {},
     "output_type": "execute_result"
    }
   ],
   "source": [
    "type(alien)"
   ]
  },
  {
   "cell_type": "code",
   "execution_count": null,
   "id": "ec55ff60",
   "metadata": {},
   "outputs": [],
   "source": [
    "#how to access the elements in the dict"
   ]
  },
  {
   "cell_type": "code",
   "execution_count": 3,
   "id": "d90c67e4",
   "metadata": {},
   "outputs": [
    {
     "name": "stdout",
     "output_type": "stream",
     "text": [
      "green\n"
     ]
    }
   ],
   "source": [
    "print(alien['color'])"
   ]
  },
  {
   "cell_type": "code",
   "execution_count": 4,
   "id": "d3a6a3f7",
   "metadata": {},
   "outputs": [
    {
     "name": "stdout",
     "output_type": "stream",
     "text": [
      "5\n"
     ]
    }
   ],
   "source": [
    "print(alien['points'])"
   ]
  },
  {
   "cell_type": "code",
   "execution_count": null,
   "id": "38c535ba",
   "metadata": {},
   "outputs": [],
   "source": [
    "Interview Question : Can we get the key when we enter the Value and \n",
    "    Can we get the value when we enter the key?"
   ]
  },
  {
   "cell_type": "code",
   "execution_count": null,
   "id": "36e6ff15",
   "metadata": {},
   "outputs": [],
   "source": [
    "Answer:We can only give the key and get the value and not the other way around"
   ]
  },
  {
   "cell_type": "code",
   "execution_count": null,
   "id": "045f3aa2",
   "metadata": {},
   "outputs": [],
   "source": [
    "NOTE: give the key and get the value. \n",
    "    In a dict keys will be actign as an index\n",
    "    "
   ]
  },
  {
   "cell_type": "code",
   "execution_count": null,
   "id": "64b27c46",
   "metadata": {},
   "outputs": [],
   "source": [
    "# how to add new key value pairs to the dictionary\n",
    "#req: I want to add start position....? 0\n",
    "# key and value..."
   ]
  },
  {
   "cell_type": "code",
   "execution_count": null,
   "id": "bf61e85a",
   "metadata": {},
   "outputs": [],
   "source": [
    "alien['start_position']=0"
   ]
  },
  {
   "cell_type": "code",
   "execution_count": 5,
   "id": "237869f7",
   "metadata": {},
   "outputs": [
    {
     "name": "stdout",
     "output_type": "stream",
     "text": [
      "{'color': 'green', 'points': '5'}\n"
     ]
    }
   ],
   "source": [
    "print(alien)"
   ]
  },
  {
   "cell_type": "code",
   "execution_count": null,
   "id": "08b2b47c",
   "metadata": {},
   "outputs": [],
   "source": [
    "alien['start_position']=0\n",
    "\n"
   ]
  },
  {
   "cell_type": "code",
   "execution_count": 6,
   "id": "6ab9bf84",
   "metadata": {},
   "outputs": [
    {
     "name": "stdout",
     "output_type": "stream",
     "text": [
      "{'color': 'green', 'points': '5'}\n"
     ]
    }
   ],
   "source": [
    "print(alien)"
   ]
  },
  {
   "cell_type": "code",
   "execution_count": 7,
   "id": "5e7b2d80",
   "metadata": {},
   "outputs": [
    {
     "name": "stdout",
     "output_type": "stream",
     "text": [
      "{'color': 'green', 'points': '5', 'start_position': 0}\n"
     ]
    }
   ],
   "source": [
    "alien['start_position']=0\n",
    "print(alien)"
   ]
  },
  {
   "cell_type": "code",
   "execution_count": null,
   "id": "7e947db1",
   "metadata": {},
   "outputs": [],
   "source": [
    "# facebook: create a new useraccount in facebook.....?"
   ]
  },
  {
   "cell_type": "code",
   "execution_count": null,
   "id": "7b2c78a6",
   "metadata": {},
   "outputs": [],
   "source": [
    "useraccount={'username':'codetrainingacademy','first_name':'code', 'last_name':'training','dob':'01-01-2020'\\'pwd':'12345'}"
   ]
  },
  {
   "cell_type": "code",
   "execution_count": 8,
   "id": "00328bf8",
   "metadata": {},
   "outputs": [
    {
     "ename": "NameError",
     "evalue": "name 'useraccount' is not defined",
     "output_type": "error",
     "traceback": [
      "\u001b[1;31m---------------------------------------------------------------------------\u001b[0m",
      "\u001b[1;31mNameError\u001b[0m                                 Traceback (most recent call last)",
      "\u001b[1;32m~\\AppData\\Local\\Temp/ipykernel_19464/2146124108.py\u001b[0m in \u001b[0;36m<module>\u001b[1;34m\u001b[0m\n\u001b[1;32m----> 1\u001b[1;33m \u001b[0mprint\u001b[0m\u001b[1;33m(\u001b[0m\u001b[0museraccount\u001b[0m\u001b[1;33m)\u001b[0m\u001b[1;33m\u001b[0m\u001b[1;33m\u001b[0m\u001b[0m\n\u001b[0m",
      "\u001b[1;31mNameError\u001b[0m: name 'useraccount' is not defined"
     ]
    }
   ],
   "source": [
    "print(useraccount)"
   ]
  },
  {
   "cell_type": "code",
   "execution_count": 9,
   "id": "2d6c4e9e",
   "metadata": {},
   "outputs": [
    {
     "name": "stdout",
     "output_type": "stream",
     "text": [
      "{'username': 'codetrainingacademy', 'first_name': 'code', 'last_name': 'training', 'dob': '01-01-2020', 'pwd': '12345'}\n"
     ]
    }
   ],
   "source": [
    "useraccount={'username':'codetrainingacademy','first_name':'code', 'last_name':'training','dob':'01-01-2020','pwd':'12345'}\n",
    "print(useraccount)"
   ]
  },
  {
   "cell_type": "code",
   "execution_count": 10,
   "id": "a861610e",
   "metadata": {},
   "outputs": [
    {
     "data": {
      "text/plain": [
       "dict"
      ]
     },
     "execution_count": 10,
     "metadata": {},
     "output_type": "execute_result"
    }
   ],
   "source": [
    "type(useraccount)"
   ]
  },
  {
   "cell_type": "raw",
   "id": "1816209a",
   "metadata": {},
   "source": [
    "#req: update_status: dinner ----> farzi_cafe"
   ]
  },
  {
   "cell_type": "code",
   "execution_count": 11,
   "id": "109821cf",
   "metadata": {},
   "outputs": [
    {
     "name": "stdout",
     "output_type": "stream",
     "text": [
      "{'username': 'codetrainingacademy', 'first_name': 'code', 'last_name': 'training', 'dob': '01-01-2020', 'pwd': '12345', 'dinner': 'farzi_cafe'}\n"
     ]
    }
   ],
   "source": [
    "useraccount['dinner']='farzi_cafe'\n",
    "print(useraccount)"
   ]
  },
  {
   "cell_type": "code",
   "execution_count": 12,
   "id": "6f0a9ef2",
   "metadata": {},
   "outputs": [
    {
     "name": "stdout",
     "output_type": "stream",
     "text": [
      "{'color': 'green', 'points': '5', 'start_position': 0}\n"
     ]
    }
   ],
   "source": [
    "# how to modify the values in a dictionary....!\n",
    "print(alien)"
   ]
  },
  {
   "cell_type": "code",
   "execution_count": null,
   "id": "4754a28c",
   "metadata": {},
   "outputs": [],
   "source": [
    "# req: change the green ----> yellow"
   ]
  },
  {
   "cell_type": "code",
   "execution_count": 13,
   "id": "30e674fd",
   "metadata": {},
   "outputs": [
    {
     "name": "stdout",
     "output_type": "stream",
     "text": [
      "{'color': 'yellow', 'points': '5', 'start_position': 0}\n"
     ]
    }
   ],
   "source": [
    "alien['color']='yellow'\n",
    "print(alien)"
   ]
  },
  {
   "cell_type": "code",
   "execution_count": 14,
   "id": "6625ac43",
   "metadata": {},
   "outputs": [
    {
     "name": "stdout",
     "output_type": "stream",
     "text": [
      "{'color': 'yellow', 'points': '5', 'start_position': 0}\n"
     ]
    }
   ],
   "source": [
    "useraccount['pwd']='54321'\n",
    "print(alien)"
   ]
  },
  {
   "cell_type": "code",
   "execution_count": null,
   "id": "53569b96",
   "metadata": {},
   "outputs": [],
   "source": [
    "#req: Delete the points"
   ]
  },
  {
   "cell_type": "code",
   "execution_count": 15,
   "id": "ceca8dd7",
   "metadata": {},
   "outputs": [
    {
     "ename": "KeyError",
     "evalue": "'oints'",
     "output_type": "error",
     "traceback": [
      "\u001b[1;31m---------------------------------------------------------------------------\u001b[0m",
      "\u001b[1;31mKeyError\u001b[0m                                  Traceback (most recent call last)",
      "\u001b[1;32m~\\AppData\\Local\\Temp/ipykernel_19464/2634016114.py\u001b[0m in \u001b[0;36m<module>\u001b[1;34m\u001b[0m\n\u001b[1;32m----> 1\u001b[1;33m \u001b[1;32mdel\u001b[0m \u001b[0malien\u001b[0m\u001b[1;33m[\u001b[0m\u001b[1;34m'oints'\u001b[0m\u001b[1;33m]\u001b[0m\u001b[1;33m\u001b[0m\u001b[1;33m\u001b[0m\u001b[0m\n\u001b[0m\u001b[0;32m      2\u001b[0m \u001b[0mprint\u001b[0m\u001b[1;33m(\u001b[0m\u001b[0malien\u001b[0m\u001b[1;33m)\u001b[0m\u001b[1;33m\u001b[0m\u001b[1;33m\u001b[0m\u001b[0m\n",
      "\u001b[1;31mKeyError\u001b[0m: 'oints'"
     ]
    }
   ],
   "source": [
    "del alien['oints']\n",
    "print(alien)"
   ]
  },
  {
   "cell_type": "code",
   "execution_count": 16,
   "id": "cdda546f",
   "metadata": {},
   "outputs": [
    {
     "name": "stdout",
     "output_type": "stream",
     "text": [
      "{'color': 'yellow', 'start_position': 0}\n"
     ]
    }
   ],
   "source": [
    "del alien['points']\n",
    "print(alien)"
   ]
  },
  {
   "cell_type": "code",
   "execution_count": 17,
   "id": "76e14e43",
   "metadata": {},
   "outputs": [
    {
     "name": "stdout",
     "output_type": "stream",
     "text": [
      "{'start_position': 0}\n"
     ]
    }
   ],
   "source": [
    "del alien['color']\n",
    "print(alien)"
   ]
  },
  {
   "cell_type": "code",
   "execution_count": 18,
   "id": "5c021f2f",
   "metadata": {},
   "outputs": [
    {
     "name": "stdout",
     "output_type": "stream",
     "text": [
      "{'start_position': 0, 'color': 'blue', 'end_time': '90'}\n"
     ]
    }
   ],
   "source": [
    "alien['color']='blue'\n",
    "alien['end_time']='90'\n",
    "print(alien)"
   ]
  },
  {
   "cell_type": "code",
   "execution_count": null,
   "id": "721661fa",
   "metadata": {},
   "outputs": [],
   "source": []
  }
 ],
 "metadata": {
  "kernelspec": {
   "display_name": "Python 3 (ipykernel)",
   "language": "python",
   "name": "python3"
  },
  "language_info": {
   "codemirror_mode": {
    "name": "ipython",
    "version": 3
   },
   "file_extension": ".py",
   "mimetype": "text/x-python",
   "name": "python",
   "nbconvert_exporter": "python",
   "pygments_lexer": "ipython3",
   "version": "3.9.7"
  }
 },
 "nbformat": 4,
 "nbformat_minor": 5
}
