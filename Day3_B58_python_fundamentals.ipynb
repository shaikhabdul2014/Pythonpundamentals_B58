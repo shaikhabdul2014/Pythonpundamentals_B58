{
 "cells": [
  {
   "cell_type": "code",
   "execution_count": null,
   "id": "04f69844",
   "metadata": {},
   "outputs": [],
   "source": [
    "Introduction to string methods( continuation)\n"
   ]
  },
  {
   "cell_type": "code",
   "execution_count": 1,
   "id": "f9a817c7",
   "metadata": {},
   "outputs": [
    {
     "name": "stdout",
     "output_type": "stream",
     "text": [
      "ravi kumar\n"
     ]
    }
   ],
   "source": [
    "full_name=\"ravi kumar\"\n",
    "print(full_name)"
   ]
  },
  {
   "cell_type": "code",
   "execution_count": 2,
   "id": "04504554",
   "metadata": {},
   "outputs": [
    {
     "name": "stdout",
     "output_type": "stream",
     "text": [
      "Ravi Kumar\n"
     ]
    }
   ],
   "source": [
    "full_name1=\"Ravi Kumar\"\n",
    "print(full_name1)"
   ]
  },
  {
   "cell_type": "code",
   "execution_count": 3,
   "id": "abc45bc1",
   "metadata": {},
   "outputs": [
    {
     "ename": "SyntaxError",
     "evalue": "invalid syntax (Temp/ipykernel_25756/3937246488.py, line 1)",
     "output_type": "error",
     "traceback": [
      "\u001b[1;36m  File \u001b[1;32m\"C:\\Users\\kadersha\\AppData\\Local\\Temp/ipykernel_25756/3937246488.py\"\u001b[1;36m, line \u001b[1;32m1\u001b[0m\n\u001b[1;33m    print(full_name.title{})\u001b[0m\n\u001b[1;37m                         ^\u001b[0m\n\u001b[1;31mSyntaxError\u001b[0m\u001b[1;31m:\u001b[0m invalid syntax\n"
     ]
    }
   ],
   "source": [
    "print(full_name.title{})"
   ]
  },
  {
   "cell_type": "code",
   "execution_count": null,
   "id": "ff37ea61",
   "metadata": {},
   "outputs": [],
   "source": []
  },
  {
   "cell_type": "code",
   "execution_count": null,
   "id": "22c39bc9",
   "metadata": {},
   "outputs": [],
   "source": []
  },
  {
   "cell_type": "code",
   "execution_count": null,
   "id": "d3d83e63",
   "metadata": {},
   "outputs": [],
   "source": []
  },
  {
   "cell_type": "code",
   "execution_count": 4,
   "id": "5564d10b",
   "metadata": {},
   "outputs": [
    {
     "name": "stdout",
     "output_type": "stream",
     "text": [
      "ravi kumar\n"
     ]
    }
   ],
   "source": [
    "print(full_name)"
   ]
  },
  {
   "cell_type": "code",
   "execution_count": 5,
   "id": "53aa061a",
   "metadata": {},
   "outputs": [
    {
     "ename": "SyntaxError",
     "evalue": "invalid syntax (Temp/ipykernel_25756/3937246488.py, line 1)",
     "output_type": "error",
     "traceback": [
      "\u001b[1;36m  File \u001b[1;32m\"C:\\Users\\kadersha\\AppData\\Local\\Temp/ipykernel_25756/3937246488.py\"\u001b[1;36m, line \u001b[1;32m1\u001b[0m\n\u001b[1;33m    print(full_name.title{})\u001b[0m\n\u001b[1;37m                         ^\u001b[0m\n\u001b[1;31mSyntaxError\u001b[0m\u001b[1;31m:\u001b[0m invalid syntax\n"
     ]
    }
   ],
   "source": [
    "print(full_name.title{})"
   ]
  },
  {
   "cell_type": "code",
   "execution_count": 6,
   "id": "e7248d7b",
   "metadata": {},
   "outputs": [
    {
     "ename": "SyntaxError",
     "evalue": "invalid syntax (Temp/ipykernel_25756/2070040762.py, line 1)",
     "output_type": "error",
     "traceback": [
      "\u001b[1;36m  File \u001b[1;32m\"C:\\Users\\kadersha\\AppData\\Local\\Temp/ipykernel_25756/2070040762.py\"\u001b[1;36m, line \u001b[1;32m1\u001b[0m\n\u001b[1;33m    print(full_name/title[])\u001b[0m\n\u001b[1;37m                          ^\u001b[0m\n\u001b[1;31mSyntaxError\u001b[0m\u001b[1;31m:\u001b[0m invalid syntax\n"
     ]
    }
   ],
   "source": [
    "print(full_name/title[])"
   ]
  },
  {
   "cell_type": "code",
   "execution_count": null,
   "id": "20abb230",
   "metadata": {},
   "outputs": [],
   "source": []
  },
  {
   "cell_type": "code",
   "execution_count": null,
   "id": "f05fa710",
   "metadata": {},
   "outputs": [],
   "source": [
    "#req:I want to get the fullname in capital letters...?"
   ]
  },
  {
   "cell_type": "code",
   "execution_count": 7,
   "id": "cdb79826",
   "metadata": {},
   "outputs": [
    {
     "ename": "SyntaxError",
     "evalue": "invalid syntax (Temp/ipykernel_25756/3158835411.py, line 1)",
     "output_type": "error",
     "traceback": [
      "\u001b[1;36m  File \u001b[1;32m\"C:\\Users\\kadersha\\AppData\\Local\\Temp/ipykernel_25756/3158835411.py\"\u001b[1;36m, line \u001b[1;32m1\u001b[0m\n\u001b[1;33m    print(full_name.upper{})\u001b[0m\n\u001b[1;37m                         ^\u001b[0m\n\u001b[1;31mSyntaxError\u001b[0m\u001b[1;31m:\u001b[0m invalid syntax\n"
     ]
    }
   ],
   "source": [
    "print(full_name.upper{})"
   ]
  },
  {
   "cell_type": "code",
   "execution_count": 8,
   "id": "5c788f98",
   "metadata": {},
   "outputs": [
    {
     "ename": "SyntaxError",
     "evalue": "invalid syntax (Temp/ipykernel_25756/2677850753.py, line 1)",
     "output_type": "error",
     "traceback": [
      "\u001b[1;36m  File \u001b[1;32m\"C:\\Users\\kadersha\\AppData\\Local\\Temp/ipykernel_25756/2677850753.py\"\u001b[1;36m, line \u001b[1;32m1\u001b[0m\n\u001b[1;33m    print(full_name.lower{})\u001b[0m\n\u001b[1;37m                         ^\u001b[0m\n\u001b[1;31mSyntaxError\u001b[0m\u001b[1;31m:\u001b[0m invalid syntax\n"
     ]
    }
   ],
   "source": [
    "print(full_name.lower{})"
   ]
  },
  {
   "cell_type": "code",
   "execution_count": 9,
   "id": "3fef9cd4",
   "metadata": {},
   "outputs": [
    {
     "ename": "SyntaxError",
     "evalue": "invalid syntax (Temp/ipykernel_25756/2746254541.py, line 1)",
     "output_type": "error",
     "traceback": [
      "\u001b[1;36m  File \u001b[1;32m\"C:\\Users\\kadersha\\AppData\\Local\\Temp/ipykernel_25756/2746254541.py\"\u001b[1;36m, line \u001b[1;32m1\u001b[0m\n\u001b[1;33m    print(full_name.lower[])\u001b[0m\n\u001b[1;37m                          ^\u001b[0m\n\u001b[1;31mSyntaxError\u001b[0m\u001b[1;31m:\u001b[0m invalid syntax\n"
     ]
    }
   ],
   "source": [
    "print(full_name.lower[])"
   ]
  },
  {
   "cell_type": "code",
   "execution_count": null,
   "id": "b35a3f42",
   "metadata": {},
   "outputs": [],
   "source": [
    "Introduction  to f strings\n",
    "#General syntax of an f string\n",
    "f\"(placeholder1) {placeholder2} ....{placeholder n}\"\""
   ]
  },
  {
   "cell_type": "code",
   "execution_count": 10,
   "id": "23384302",
   "metadata": {},
   "outputs": [],
   "source": [
    "first_name='sohail'\n",
    "last_name='shaikh'"
   ]
  },
  {
   "cell_type": "code",
   "execution_count": null,
   "id": "45d3ac6e",
   "metadata": {},
   "outputs": [],
   "source": [
    "#req: I want to get the full name ....?"
   ]
  },
  {
   "cell_type": "code",
   "execution_count": 11,
   "id": "fdd70b87",
   "metadata": {},
   "outputs": [
    {
     "name": "stdout",
     "output_type": "stream",
     "text": [
      "sohail shaikh\n"
     ]
    }
   ],
   "source": [
    "full_name=f'{first_name} {last_name}'\n",
    "print(full_name)"
   ]
  },
  {
   "cell_type": "markdown",
   "id": "cbf8662a",
   "metadata": {},
   "source": []
  },
  {
   "cell_type": "code",
   "execution_count": 12,
   "id": "f21a6d7e",
   "metadata": {},
   "outputs": [
    {
     "name": "stdout",
     "output_type": "stream",
     "text": [
      "keep up the good work, sohail shaikh\n"
     ]
    }
   ],
   "source": [
    "message=f\"keep up the good work, {full_name}\"\n",
    "print(message)"
   ]
  },
  {
   "cell_type": "code",
   "execution_count": null,
   "id": "fa1d19c5",
   "metadata": {},
   "outputs": [],
   "source": []
  },
  {
   "cell_type": "code",
   "execution_count": 13,
   "id": "e84db156",
   "metadata": {},
   "outputs": [
    {
     "ename": "SyntaxError",
     "evalue": "EOL while scanning string literal (Temp/ipykernel_25756/667837560.py, line 1)",
     "output_type": "error",
     "traceback": [
      "\u001b[1;36m  File \u001b[1;32m\"C:\\Users\\kadersha\\AppData\\Local\\Temp/ipykernel_25756/667837560.py\"\u001b[1;36m, line \u001b[1;32m1\u001b[0m\n\u001b[1;33m    message=f\"keep up the good work, {full_name.title()}\u001b[0m\n\u001b[1;37m                                                        ^\u001b[0m\n\u001b[1;31mSyntaxError\u001b[0m\u001b[1;31m:\u001b[0m EOL while scanning string literal\n"
     ]
    }
   ],
   "source": [
    "message=f\"keep up the good work, {full_name.title()}\n",
    "print(message)"
   ]
  },
  {
   "cell_type": "code",
   "execution_count": 14,
   "id": "27fb9504",
   "metadata": {},
   "outputs": [
    {
     "ename": "SyntaxError",
     "evalue": "EOL while scanning string literal (Temp/ipykernel_25756/3549435123.py, line 1)",
     "output_type": "error",
     "traceback": [
      "\u001b[1;36m  File \u001b[1;32m\"C:\\Users\\kadersha\\AppData\\Local\\Temp/ipykernel_25756/3549435123.py\"\u001b[1;36m, line \u001b[1;32m1\u001b[0m\n\u001b[1;33m    message = f\"keep up the good work, {full_name.title()}\u001b[0m\n\u001b[1;37m                                                          ^\u001b[0m\n\u001b[1;31mSyntaxError\u001b[0m\u001b[1;31m:\u001b[0m EOL while scanning string literal\n"
     ]
    }
   ],
   "source": [
    "message = f\"keep up the good work, {full_name.title()}\n",
    "print(message)"
   ]
  },
  {
   "cell_type": "code",
   "execution_count": null,
   "id": "be5521eb",
   "metadata": {},
   "outputs": [],
   "source": []
  },
  {
   "cell_type": "code",
   "execution_count": null,
   "id": "74bac459",
   "metadata": {},
   "outputs": [],
   "source": [
    "Adding whitespaces to strings:\n"
   ]
  },
  {
   "cell_type": "code",
   "execution_count": 15,
   "id": "20f05469",
   "metadata": {},
   "outputs": [
    {
     "name": "stdout",
     "output_type": "stream",
     "text": [
      "favourite_language:pythongc++javaswiftjavascript\n"
     ]
    }
   ],
   "source": [
    "print(\"favourite_language:pythongc++javaswiftjavascript\")"
   ]
  },
  {
   "cell_type": "code",
   "execution_count": 16,
   "id": "85d4598b",
   "metadata": {},
   "outputs": [
    {
     "name": "stdout",
     "output_type": "stream",
     "text": [
      "favourite_language:\n",
      "python\n",
      "c++\n",
      "java\n",
      "swift\n",
      "javascript\n"
     ]
    }
   ],
   "source": [
    "print(\"favourite_language:\\npython\\nc++\\njava\\nswift\\njavascript\")"
   ]
  },
  {
   "cell_type": "code",
   "execution_count": null,
   "id": "73152d83",
   "metadata": {},
   "outputs": [],
   "source": [
    "\\n ==>it is called as new line delimiter\n",
    "\\t ==> it is called tab delimiter"
   ]
  },
  {
   "cell_type": "code",
   "execution_count": 17,
   "id": "4111cfad",
   "metadata": {},
   "outputs": [
    {
     "name": "stdout",
     "output_type": "stream",
     "text": [
      "favourite_language:\n",
      "\tpython\n",
      "\tc++\n",
      "java\n",
      "\tswift\n",
      "\tjavascript\n"
     ]
    }
   ],
   "source": [
    "print(\"favourite_language:\\n\\tpython\\n\\tc++\\njava\\n\\tswift\\n\\tjavascript\")"
   ]
  },
  {
   "cell_type": "code",
   "execution_count": 18,
   "id": "ec914967",
   "metadata": {
    "scrolled": true
   },
   "outputs": [
    {
     "name": "stdout",
     "output_type": "stream",
     "text": [
      "favourite_language:\n",
      "\tpython\n",
      "\tc++\n",
      "\tjava\n",
      "\tswift\n",
      "\tjavascript\n"
     ]
    }
   ],
   "source": [
    "print(\"favourite_language:\\n\\tpython\\n\\tc++\\n\\tjava\\n\\tswift\\n\\tjavascript\")"
   ]
  },
  {
   "cell_type": "code",
   "execution_count": null,
   "id": "8e88b22f",
   "metadata": {},
   "outputs": [],
   "source": []
  },
  {
   "cell_type": "code",
   "execution_count": null,
   "id": "2c4a0382",
   "metadata": {},
   "outputs": [],
   "source": [
    "Removing whitespaces from string\n"
   ]
  },
  {
   "cell_type": "code",
   "execution_count": 19,
   "id": "b921f31f",
   "metadata": {},
   "outputs": [
    {
     "name": "stdout",
     "output_type": "stream",
     "text": [
      "python\"\n"
     ]
    }
   ],
   "source": [
    "name='python\"'\n",
    "print(name)"
   ]
  },
  {
   "cell_type": "code",
   "execution_count": 20,
   "id": "83d5463d",
   "metadata": {},
   "outputs": [
    {
     "name": "stdout",
     "output_type": "stream",
     "text": [
      "java   \n"
     ]
    }
   ],
   "source": [
    "name1='java   '\n",
    "print(name1)"
   ]
  },
  {
   "cell_type": "code",
   "execution_count": 21,
   "id": "940c369f",
   "metadata": {},
   "outputs": [
    {
     "name": "stdout",
     "output_type": "stream",
     "text": [
      "java   \n"
     ]
    }
   ],
   "source": [
    "name2='   java'\n",
    "print(name1)"
   ]
  },
  {
   "cell_type": "code",
   "execution_count": 22,
   "id": "2bb1fe28",
   "metadata": {},
   "outputs": [
    {
     "name": "stdout",
     "output_type": "stream",
     "text": [
      "                  java\n"
     ]
    }
   ],
   "source": [
    "name3='                  java'\n",
    "print(name3)"
   ]
  },
  {
   "cell_type": "code",
   "execution_count": 23,
   "id": "58e09192",
   "metadata": {},
   "outputs": [
    {
     "name": "stdout",
     "output_type": "stream",
     "text": [
      "c++                  \n"
     ]
    }
   ],
   "source": [
    "name4='c++                  '\n",
    "print(name4)"
   ]
  },
  {
   "cell_type": "code",
   "execution_count": 24,
   "id": "dda9e142",
   "metadata": {},
   "outputs": [
    {
     "data": {
      "text/plain": [
       "'java'"
      ]
     },
     "execution_count": 24,
     "metadata": {},
     "output_type": "execute_result"
    }
   ],
   "source": [
    "name2.lstrip()"
   ]
  },
  {
   "cell_type": "code",
   "execution_count": 25,
   "id": "cb0b878f",
   "metadata": {},
   "outputs": [
    {
     "name": "stdout",
     "output_type": "stream",
     "text": [
      "                  java\n"
     ]
    }
   ],
   "source": [
    "name3.lstrip()\n",
    "print(name3)"
   ]
  },
  {
   "cell_type": "code",
   "execution_count": 26,
   "id": "53e51e9b",
   "metadata": {},
   "outputs": [
    {
     "name": "stdout",
     "output_type": "stream",
     "text": [
      "c++                  \n"
     ]
    }
   ],
   "source": [
    "name4.rstrip()\n",
    "print(name4)"
   ]
  },
  {
   "cell_type": "markdown",
   "id": "e5b2cd87",
   "metadata": {},
   "source": [
    "name3.lstrip()\n",
    "print(name3)"
   ]
  },
  {
   "cell_type": "code",
   "execution_count": 27,
   "id": "ed7a6a99",
   "metadata": {},
   "outputs": [
    {
     "name": "stdout",
     "output_type": "stream",
     "text": [
      "                  java\n"
     ]
    }
   ],
   "source": [
    "print(name3)"
   ]
  },
  {
   "cell_type": "code",
   "execution_count": 28,
   "id": "ac7cae38",
   "metadata": {},
   "outputs": [
    {
     "name": "stdout",
     "output_type": "stream",
     "text": [
      "                  java\n"
     ]
    }
   ],
   "source": [
    "name3.lstrip()\n",
    "print(name3)"
   ]
  },
  {
   "cell_type": "code",
   "execution_count": 29,
   "id": "7183a3ff",
   "metadata": {},
   "outputs": [
    {
     "name": "stdout",
     "output_type": "stream",
     "text": [
      "                  java\n"
     ]
    }
   ],
   "source": [
    "name3.rstrip()\n",
    "print(name3)"
   ]
  },
  {
   "cell_type": "raw",
   "id": "21db489c",
   "metadata": {},
   "source": []
  },
  {
   "cell_type": "code",
   "execution_count": null,
   "id": "bfca98bc",
   "metadata": {},
   "outputs": [],
   "source": []
  }
 ],
 "metadata": {
  "kernelspec": {
   "display_name": "Python 3 (ipykernel)",
   "language": "python",
   "name": "python3"
  },
  "language_info": {
   "codemirror_mode": {
    "name": "ipython",
    "version": 3
   },
   "file_extension": ".py",
   "mimetype": "text/x-python",
   "name": "python",
   "nbconvert_exporter": "python",
   "pygments_lexer": "ipython3",
   "version": "3.9.7"
  }
 },
 "nbformat": 4,
 "nbformat_minor": 5
}
